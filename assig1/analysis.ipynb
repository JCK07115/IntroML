{
  "cells": [
    {
      "cell_type": "markdown",
      "metadata": {
        "id": "view-in-github",
        "colab_type": "text"
      },
      "source": [
        "<a href=\"https://colab.research.google.com/github/JCK07115/IntroML/blob/main/assig1/analysis.ipynb\" target=\"_parent\"><img src=\"https://colab.research.google.com/assets/colab-badge.svg\" alt=\"Open In Colab\"/></a>"
      ]
    },
    {
      "cell_type": "markdown",
      "source": [
        "## Assignment 1\n",
        "\n",
        "### Question 1\n",
        "\n"
      ],
      "metadata": {
        "id": "qvxeLBygTN0q"
      }
    },
    {
      "cell_type": "code",
      "source": [
        "import pandas as pd\n",
        "import matplotlib.pyplot as plt\n",
        "from sklearn.neighbors import KNeighborsClassifier"
      ],
      "metadata": {
        "id": "s4ZSgT6qUUR7"
      },
      "execution_count": null,
      "outputs": []
    },
    {
      "cell_type": "code",
      "execution_count": null,
      "metadata": {
        "id": "PzRD7Yd8hNrH"
      },
      "outputs": [],
      "source": [
        "# creating the training datasets\n",
        "train_DAT = pd.read_csv('./data/train.sDAT.csv', header=None)\n",
        "train_DAT.rename(columns={0: \"x1\", 1: \"x2\"}, inplace=True)\n",
        "train_DAT['label'] = 1\n",
        "\n",
        "train_NC = pd.read_csv('./data/train.sNC.csv', header=None)\n",
        "train_NC.rename(columns={0: \"x1\", 1: \"x2\"}, inplace=True)\n",
        "train_NC['label'] = 0\n",
        "\n",
        "# merging the two training datasets\n",
        "train_df = pd.concat([train_DAT, train_NC], axis=0)\n",
        "\n",
        "# creating the test datasets\n",
        "test_DAT = pd.read_csv('./data/test.sDAT.csv', header=None)\n",
        "test_DAT.rename(columns={0: \"x1\", 1: \"x2\"}, inplace=True)\n",
        "test_DAT['label'] = 1\n",
        "\n",
        "test_NC = pd.read_csv('./data/test.sNC.csv', header=None)\n",
        "test_NC.rename(columns={0: \"x1\", 1: \"x2\"}, inplace=True)\n",
        "test_NC['label'] = 0\n",
        "\n",
        "# merging the two testing datasets\n",
        "test_df = pd.concat([test_DAT, test_NC], axis=0)\n",
        "\n",
        "grid_points = pd.read_csv('./data/2D_grid_points.csv', header=None)\n",
        "grid_points.rename(columns={0: \"x1\", 1: \"x2\"}, inplace=True)\n",
        "\n",
        "k = [1, 3, 5, 10, 20, 30, 50, 100, 150, 200]\n",
        "colors = {0: 'green', 1: \"blue\"}\n",
        "train_err_list = []\n",
        "test_err_list = []\n",
        "manhattan_test_err = []\n",
        "manhattan_train_err = []\n",
        "capacity = []\n",
        "for i in k:\n",
        "    capacity.append(1 / i)\n",
        "\n",
        "\n",
        "# function to draw the classification plot and calculate the error rates\n",
        "def generate_plot(k, metric):\n",
        "    if metric == \"Euclidean\":\n",
        "        p = 2\n",
        "    elif metric == \"Manhattan\":\n",
        "        p = 1\n",
        "\n",
        "    neigh = KNeighborsClassifier(n_neighbors=k, p=p)\n",
        "    neigh.fit(train_df[['x1', 'x2']], train_df['label'])\n",
        "\n",
        "    # calculate the error rates and store it\n",
        "    train_err = round(\n",
        "        1 - neigh.score(train_df[['x1', 'x2']], train_df['label']), 3)\n",
        "    test_err = round(1 - neigh.score(test_df[['x1', 'x2']], test_df['label']),\n",
        "                     3)\n",
        "    if p == 2:\n",
        "        train_err_list.append(train_err)\n",
        "        test_err_list.append(test_err)\n",
        "    elif p == 1:\n",
        "        manhattan_test_err.append(test_err)\n",
        "        manhattan_train_err.append(train_err)\n",
        "\n",
        "    grid_points_copy = grid_points.copy()\n",
        "    grid_points_copy['predict'] = neigh.predict(grid_points)\n",
        "\n",
        "    # draw the plot\n",
        "    _, ax = plt.subplots(figsize=(10, 10))\n",
        "    ax.scatter(grid_points_copy['x1'],\n",
        "               grid_points_copy['x2'],\n",
        "               c=grid_points_copy['predict'].map(colors),\n",
        "               marker='.')\n",
        "    ax.scatter(train_df['x1'],\n",
        "               train_df['x2'],\n",
        "               c=train_df['label'].map(colors),\n",
        "               marker='o')\n",
        "    ax.scatter(test_df['x1'],\n",
        "               test_df['x2'],\n",
        "               c=test_df['label'].map(colors),\n",
        "               marker='+')\n",
        "    ax.set_xlabel(\"$x_1$\")\n",
        "    ax.set_ylabel(\"$x_2$\")\n",
        "    ax.set_title(metric + \", k=\" + str(k) + \", Training Error Rate: \" +\n",
        "                 str(train_err) + \", Testing Error Rate: \" + str(test_err))\n",
        "\n",
        "\n",
        "# draw the plots for all k's\n",
        "for i in k:\n",
        "    generate_plot(i, \"Euclidean\")\n",
        "\n",
        "# find the k-value with the lowest testing error rate\n",
        "min_test_err = min(test_err_list)\n",
        "min_err_ind = [i for i, j in enumerate(test_err_list) if j == min_test_err]\n",
        "generate_plot(k[min_err_ind[0]], \"Manhattan\")\n",
        "\n",
        "# compare the testing error rate between Euclidean and Manhattan\n",
        "train_list = []\n",
        "test_list = []\n",
        "metric = \"\"\n",
        "if min_test_err <= manhattan_test_err:\n",
        "    train_list = train_err_list\n",
        "    test_list = test_err_list\n",
        "    metric = \"Euclidean\"\n",
        "else:\n",
        "    manhattan_test_err = []\n",
        "    for i in k:\n",
        "        generate_plot(i, \"Manhattan\")\n",
        "    train_list = manhattan_train_err\n",
        "    test_list = manhattan_test_err\n",
        "    metric = \"Manhattan\"\n",
        "\n",
        "# draw the Error rate versus Model capacity plot\n",
        "_, err_plot = plt.subplots(figsize=(10, 10))\n",
        "err_plot.plot(capacity, train_list, 'o-r', color='blue', label='Training')\n",
        "err_plot.plot(capacity, test_list, 'o-r', color='red', label='Testing')\n",
        "err_plot.set_xscale(\"log\")\n",
        "err_plot.legend()\n",
        "err_plot.set_title(metric + \", Error rate versus Model capacity\")\n"
      ]
    },
    {
      "cell_type": "markdown",
      "source": [
        "## **The classification performance of the trained kNN classifiers using Euclidean distance metric** \n",
        "\n",
        "#### Observed Training Error and Testing Error for different values of k \n",
        "\n",
        "<table>\n",
        "<tr><th>k</th><th>Training Error Rate</th><th>Testing Error Rate</th></tr>\n",
        "<tr><td>1</td><td>0.0</td><td>0.22</td></tr>\n",
        "<tr><td>3</td><td>0.143</td><td>0.205</td></tr>\n",
        "<tr><td>5</td><td>0.156</td><td>0.17</td></tr>\n",
        "<tr><td>10</td><td>0.152</td><td>0.17</td></tr>\n",
        "<tr><td>20</td><td>0.169</td><td>0.17</td></tr>\n",
        "<tr><td>30</td><td>0.169</td><td>0.16</td></tr>\n",
        "<tr><td>50</td><td>0.158</td><td>0.19</td></tr>\n",
        "<tr><td>100</td><td>0.196</td><td>0.2</td></tr>\n",
        "<tr><td>150</td><td>0.192</td><td>0.19</td></tr>\n",
        "<tr><td>200</td><td>0.222</td><td>0.205</td></tr>\n",
        "</table>\n",
        "\n",
        "\n",
        "It can be observed from the above classification that the ***k = 30*** is giving the lowest test error rate. \n",
        "\n",
        "So we are going to use k=30 for the the next classification using Manhattan distance"
      ],
      "metadata": {
        "id": "MHPlN2AjQA_c"
      }
    },
    {
      "cell_type": "code",
      "execution_count": null,
      "metadata": {
        "id": "RuBP-Zo7hNrM"
      },
      "outputs": [],
      "source": [
        "k-\n"
      ]
    },
    {
      "cell_type": "markdown",
      "source": [
        "##Question 4##\n"
      ],
      "metadata": {
        "id": "_HG0Px8wTFiV"
      }
    }
  ],
  "metadata": {
    "kernelspec": {
      "display_name": "Python 3",
      "language": "python",
      "name": "python3"
    },
    "language_info": {
      "codemirror_mode": {
        "name": "ipython",
        "version": 3
      },
      "file_extension": ".py",
      "mimetype": "text/x-python",
      "name": "python",
      "nbconvert_exporter": "python",
      "pygments_lexer": "ipython3",
      "version": "3.10.8"
    },
    "orig_nbformat": 4,
    "vscode": {
      "interpreter": {
        "hash": "aee8b7b246df8f9039afb4144a1f6fd8d2ca17a180786b69acc140d282b71a49"
      }
    },
    "colab": {
      "provenance": [],
      "include_colab_link": true
    }
  },
  "nbformat": 4,
  "nbformat_minor": 0
}